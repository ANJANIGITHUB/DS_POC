{
 "cells": [
  {
   "cell_type": "markdown",
   "metadata": {},
   "source": [
    "### TF-IDF(Term-Frequency Inverse Document Frequency)"
   ]
  },
  {
   "cell_type": "code",
   "execution_count": 10,
   "metadata": {},
   "outputs": [],
   "source": [
    "#This is a technique to quantify a word in documents, we generally compute a weight to each word which signifies the importance\n",
    "#of the word in the document and corpus. This method is a widely used technique in Information Retrieval and Text Mining."
   ]
  },
  {
   "cell_type": "code",
   "execution_count": 1,
   "metadata": {},
   "outputs": [],
   "source": [
    "import math\n",
    "from textblob import TextBlob as tb\n",
    "import nltk"
   ]
  },
  {
   "cell_type": "code",
   "execution_count": 11,
   "metadata": {},
   "outputs": [],
   "source": [
    "# document1 = tb(\"\"\"Python is a 2000 made-for-TV horror movie directed by Richard\n",
    "# Clabaugh. The film features several cult favorite actors, including William\n",
    "# Zabka of The Karate Kid fame, Wil Wheaton, Casper Van Dien, Jenny McCarthy,\n",
    "# Keith Coogan, Robert Englund (best known for his role as Freddy Krueger in the\n",
    "# A Nightmare on Elm Street series of films), Dana Barron, David Bowe, and Sean\n",
    "# Whalen. The film concerns a genetically engineered snake, a python, that\n",
    "# escapes and unleashes itself on a small town. It includes the classic final\n",
    "# girl scenario evident in films like Friday the 13th. It was filmed in Los Angeles,\n",
    "#  California and Malibu, California. Python was followed by two sequels: Python\n",
    "#  II (2002) and Boa vs. Python (2004), both also made-for-TV films.\"\"\")\n",
    "\n",
    "# document2 = tb(\"\"\"Python, from the Greek word (πύθων/πύθωνας), is a genus of\n",
    "# nonvenomous pythons[2] found in Africa and Asia. Currently, 7 species are\n",
    "# recognised.[2] A member of this genus, P. reticulatus, is among the longest\n",
    "# snakes known.\"\"\")\n",
    "\n",
    "# document3 = tb(\"\"\"The Colt Python is a .357 Magnum caliber revolver formerly\n",
    "# manufactured by Colt's Manufacturing Company of Hartford, Connecticut.\n",
    "# It is sometimes referred to as a \"Combat Magnum\".[1] It was first introduced\n",
    "# in 1955, the same year as Smith &amp; Wesson's M29 .44 Magnum. The now discontinued\n",
    "# Colt Python targeted the premium revolver market segment. Some firearm\n",
    "# collectors and writers such as Jeff Cooper, Ian V. Hogg, Chuck Hawks, Leroy\n",
    "# Thompson, Renee Smeets and Martin Dougherty have described the Python as the\n",
    "# finest production revolver ever made.\"\"\")\n"
   ]
  },
  {
   "cell_type": "code",
   "execution_count": 12,
   "metadata": {},
   "outputs": [],
   "source": [
    "document1 =tb('''Our family run hotel is right in the heart of Florence old town - near to the Uffizi Gallery and Ponte Vecchio. Without doubt, Hotel Alessandra is one of the most centrally located hotels in Florence. In this privileged position, Hotel Alessandra offers a home away from home, with our friendly team and extensive knowledge of the local area. The hotel entrance is situated on the second floor of the building. You can reach the reception floor using the lift, small but working fine (in the 1400s buildings hadn't been designed with this in mind!) But please note that there are around 30 steps from the entrance on the street level to the departure of the lift. We very much look forward to seeing you! Andrea and Anna''')\n",
    "document2=tb('''I could not speak more highly about this hotel! My boyfriend and I stayed here for 3 nights and were greeted with some of the best customer service. Not only did our host upgrade our room but he also provided some incredible food recommendations! I will definitely stay here again!''')\n",
    "document3=tb('''I was at this hotel with my daughter and sister in 2016. It is a wonderful hotel. We were greeted by Monty (pretty sure that’s his name😁) and his joy and enthusiasm are contagious. This hotel is in a great location. Less than a five minute walk to Uffizi, five to seven to the Duomo, 15 to Academia. We only took a taxi to Piazzale Michelangelo (but mainly because I didn’t want to walk up that hill!). We walked down and back to the hotel, 10-15 minutes.When we were here in ‘16, there was a lovely breakfast that included the usual Italian fare of meats, cheeses, yogurts, but they also has eggs, which we appreciated. This time, there were not as many people staying at the hotel (low season) so they delivered breakfast to our room. It was perfect! They asked how we wanted the eggs, and what else we preferred...loved my smiley face cappuccino! We had a room with a queen (at least) bed and modern bathroom. And, FYI, great tv options in English. There are some steps up to the first floor where the small lift is located. The owners could not have been more accommodating! Printed off vouchers for us, bought some wine from them, and just all around wonderful people. We would not stay anywhere else in Florence.''')"
   ]
  },
  {
   "cell_type": "code",
   "execution_count": 13,
   "metadata": {},
   "outputs": [],
   "source": [
    "bloblist=[document1,document2,document3]"
   ]
  },
  {
   "cell_type": "code",
   "execution_count": 14,
   "metadata": {},
   "outputs": [],
   "source": [
    "def tf(word,blob):\n",
    "    return blob.words.count(word)/len(blob.words)"
   ]
  },
  {
   "cell_type": "code",
   "execution_count": 15,
   "metadata": {},
   "outputs": [],
   "source": [
    "def n_containing(word, bloblist):\n",
    "    return sum(1 for blob in bloblist if word in blob.words )"
   ]
  },
  {
   "cell_type": "code",
   "execution_count": 16,
   "metadata": {},
   "outputs": [],
   "source": [
    "def idf(word,bloblist):\n",
    "    return math.log(len(bloblist)/(1+n_containing(word,bloblist)))"
   ]
  },
  {
   "cell_type": "code",
   "execution_count": 17,
   "metadata": {},
   "outputs": [],
   "source": [
    "def tf_idf(word,blob,bloblist):\n",
    "    return  tf(word,blob) * idf(word,bloblist)\n",
    "    "
   ]
  },
  {
   "cell_type": "code",
   "execution_count": 18,
   "metadata": {},
   "outputs": [
    {
     "name": "stdout",
     "output_type": "stream",
     "text": [
      "0.0\n",
      "0.0\n",
      "0.0\n"
     ]
    }
   ],
   "source": [
    "for i,b in enumerate(bloblist):\n",
    "    print(tf_idf('Python',b,bloblist))"
   ]
  },
  {
   "cell_type": "code",
   "execution_count": 20,
   "metadata": {},
   "outputs": [
    {
     "name": "stdout",
     "output_type": "stream",
     "text": [
      "Top words in document 1\n",
      "Word: In value 0.015838480785475173\n",
      "Word: Hotel value 0.012670784628380137\n",
      "Word: Our value 0.0063353923141900685\n",
      "Word: Alessandra value 0.0063353923141900685\n",
      "Word: home value 0.0063353923141900685\n",
      "---------------------------------\n",
      "Top words in document 2\n",
      "Word: Not value 0.016218604324326577\n",
      "Word: speak value 0.008109302162163289\n",
      "Word: highly value 0.008109302162163289\n",
      "Word: about value 0.008109302162163289\n",
      "Word: My value 0.008109302162163289\n",
      "---------------------------------\n",
      "Top words in document 3\n",
      "Word: we value 0.016005201635848593\n",
      "Word: And value 0.014226845898532082\n",
      "Word: was value 0.0053350672119495315\n",
      "Word: at value 0.0053350672119495315\n",
      "Word: This value 0.0053350672119495315\n",
      "---------------------------------\n"
     ]
    }
   ],
   "source": [
    "for i,b in enumerate(bloblist):\n",
    "    print('Top words in document {}'.format(i+1))\n",
    "    scores={word :tf_idf(word,b,bloblist) for word in b.words}\n",
    "    sorted_list=sorted(scores.items(),key=lambda x:x[1],reverse=True)\n",
    "    for i,val in sorted_list[:5]:\n",
    "        print('Word: {} value {}'.format(i,val))\n",
    "    print('---------------------------------')"
   ]
  },
  {
   "cell_type": "code",
   "execution_count": null,
   "metadata": {},
   "outputs": [],
   "source": []
  }
 ],
 "metadata": {
  "kernelspec": {
   "display_name": "Python 3",
   "language": "python",
   "name": "python3"
  },
  "language_info": {
   "codemirror_mode": {
    "name": "ipython",
    "version": 3
   },
   "file_extension": ".py",
   "mimetype": "text/x-python",
   "name": "python",
   "nbconvert_exporter": "python",
   "pygments_lexer": "ipython3",
   "version": "3.7.3"
  }
 },
 "nbformat": 4,
 "nbformat_minor": 2
}
